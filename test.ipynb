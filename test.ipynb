{
 "cells": [
  {
   "cell_type": "code",
   "execution_count": 1,
   "metadata": {},
   "outputs": [
    {
     "name": "stderr",
     "output_type": "stream",
     "text": [
      "/home/ksuga/.pyenv/versions/3.7.0/envs/attention/lib/python3.7/site-packages/pandas/compat/__init__.py:120: UserWarning: Could not import the lzma module. Your installed Python is incomplete. Attempting to use lzma compression will result in a RuntimeError.\n",
      "  warnings.warn(msg)\n"
     ]
    }
   ],
   "source": [
    "import pandas as pd\n",
    "\n",
    "\n",
    "def to_corpus(dataset):\n",
    "        corpus = []\n",
    "        contexts = []\n",
    "        target = []\n",
    "        l = dataset.shape[0]\n",
    "        \n",
    "        for i in range(l):\n",
    "            tmp_probe1 = dataset[0][i]\n",
    "            tmp_probe2 = dataset[1][i]\n",
    "            \n",
    "            if tmp_probe1 not in corpus:\n",
    "                corpus.append(tmp_probe1)\n",
    "            \n",
    "            if tmp_probe2 not in corpus:\n",
    "                corpus.append(tmp_probe2)\n",
    "            \n",
    "            contexts.extend([tmp_probe1,tmp_probe2])\n",
    "            target.extend([tmp_probe2,tmp_probe1])\n",
    "        \n",
    "        return corpus,contexts,target"
   ]
  },
  {
   "cell_type": "code",
   "execution_count": 2,
   "metadata": {},
   "outputs": [],
   "source": [
    "import os \n",
    "\n",
    "dataset = pd.read_csv('./data/GDS5420_co-exp.csv',header=None)\n",
    "corpus,contexts,target = to_corpus(dataset)"
   ]
  },
  {
   "cell_type": "code",
   "execution_count": 18,
   "metadata": {},
   "outputs": [],
   "source": [
    "import numpy as np\n",
    "import pickle\n",
    "np_corpus = np.array(corpus)\n",
    "with open('probe_corpus.pkl','wb') as f:\n",
    "    pickle.dump(np_corpus, f)\n",
    "\n"
   ]
  },
  {
   "cell_type": "code",
   "execution_count": 21,
   "metadata": {},
   "outputs": [
    {
     "data": {
      "text/plain": [
       "(25770,)"
      ]
     },
     "execution_count": 21,
     "metadata": {},
     "output_type": "execute_result"
    }
   ],
   "source": [
    "with open('probe_corpus.pkl','rb') as f:\n",
    "    new = pickle.load(f)\n",
    "    \n",
    "new.shape"
   ]
  },
  {
   "cell_type": "code",
   "execution_count": 8,
   "metadata": {},
   "outputs": [],
   "source": [
    "dataset = pd.read_csv('./data/GDS5420_co-exp.csv',header=None)\n",
    "np_dataset = np.array(dataset.values)\n"
   ]
  },
  {
   "cell_type": "code",
   "execution_count": 16,
   "metadata": {},
   "outputs": [
    {
     "data": {
      "text/plain": [
       "23"
      ]
     },
     "execution_count": 16,
     "metadata": {},
     "output_type": "execute_result"
    }
   ],
   "source": [
    "np_dataset[0][0]"
   ]
  },
  {
   "cell_type": "code",
   "execution_count": 12,
   "metadata": {},
   "outputs": [
    {
     "name": "stdout",
     "output_type": "stream",
     "text": [
      "23 6\n",
      "33 21\n",
      "43 42\n",
      "55 52\n",
      "160 150\n",
      "161 55\n",
      "161 160\n",
      "173 55\n",
      "173 150\n",
      "173 161\n",
      "197 6\n"
     ]
    }
   ],
   "source": [
    "count = 0\n",
    "for data,target in np_dataset:\n",
    "    print(data,target)\n",
    "    if count == 10:\n",
    "        break\n",
    "    count += 1"
   ]
  },
  {
   "cell_type": "code",
   "execution_count": null,
   "metadata": {},
   "outputs": [],
   "source": []
  }
 ],
 "metadata": {
  "kernelspec": {
   "display_name": "Python 3",
   "language": "python",
   "name": "python3"
  },
  "language_info": {
   "codemirror_mode": {
    "name": "ipython",
    "version": 3
   },
   "file_extension": ".py",
   "mimetype": "text/x-python",
   "name": "python",
   "nbconvert_exporter": "python",
   "pygments_lexer": "ipython3",
   "version": "3.7.0"
  }
 },
 "nbformat": 4,
 "nbformat_minor": 4
}
