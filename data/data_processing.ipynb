{
 "cells": [
  {
   "cell_type": "code",
   "execution_count": 1,
   "metadata": {},
   "outputs": [
    {
     "name": "stdout",
     "output_type": "stream",
     "text": [
      "found!\n"
     ]
    }
   ],
   "source": [
    "with open(\"GDS5420.soft\",\"r\") as f:\n",
    "    with open(\"GDS5420.txt\",\"w\") as output:\n",
    "        flg = 0\n",
    "        for line in f:\n",
    "            if line == \"!dataset_table_end\\n\":\n",
    "                break\n",
    "            \n",
    "            if flg == 1:\n",
    "                output.write(line)\n",
    "            \n",
    "            if line == \"!dataset_table_begin\\n\":\n",
    "                print(\"found!\")\n",
    "                flg = 1\n",
    "\n",
    "                \n",
    "\n",
    "                \n",
    "        "
   ]
  },
  {
   "cell_type": "code",
   "execution_count": 1,
   "metadata": {},
   "outputs": [
    {
     "name": "stderr",
     "output_type": "stream",
     "text": [
      "/home/ksuga/.pyenv/versions/3.7.0/envs/attention/lib/python3.7/site-packages/pandas/compat/__init__.py:120: UserWarning: Could not import the lzma module. Your installed Python is incomplete. Attempting to use lzma compression will result in a RuntimeError.\n",
      "  warnings.warn(msg)\n"
     ]
    }
   ],
   "source": [
    "import pandas as pd\n",
    "import numpy as np\n",
    "import seaborn as sns\n",
    "import matplotlib.pyplot as plt\n",
    "\n",
    "dataset = pd.read_table(\"GDS5420.txt\")\n",
    "dataset = dataset.replace(np.nan,0)\n",
    "\n",
    "id_ref = dataset[\"ID_REF\"]\n",
    "\n",
    "\n",
    "probe_id = list(range(len(id_ref)))\n",
    "\n",
    "\n",
    "\n",
    "dataset.insert(1,\"PROBE_ID\", probe_id)\n",
    "dataset_delta_control = dataset[dataset[\"IDENTIFIER\"] != \"--Control\"]\n",
    "GDS5420_IDs=dataset_delta_control.iloc[:,0:3]\n",
    "GDS5420_IDs.to_csv(\"GDS5420_IDs.csv\")\n",
    "\n",
    "    \n",
    "    \n"
   ]
  },
  {
   "cell_type": "code",
   "execution_count": 2,
   "metadata": {},
   "outputs": [],
   "source": [
    "processed_data = dataset_delta_control.set_index(\"PROBE_ID\")\n",
    "processed_data = processed_data.drop(['ID_REF','IDENTIFIER'], axis = 1)\n",
    "processed_data.head()\n",
    "processed_data.to_csv(\"GDS5420_processed.csv\")"
   ]
  },
  {
   "cell_type": "code",
   "execution_count": 3,
   "metadata": {},
   "outputs": [],
   "source": [
    "N = processed_data.values"
   ]
  },
  {
   "cell_type": "code",
   "execution_count": 4,
   "metadata": {},
   "outputs": [
    {
     "name": "stderr",
     "output_type": "stream",
     "text": [
      "/home/ksuga/.pyenv/versions/3.7.0/envs/attention/lib/python3.7/site-packages/numpy/lib/function_base.py:2559: RuntimeWarning: invalid value encountered in true_divide\n",
      "  c /= stddev[:, None]\n",
      "/home/ksuga/.pyenv/versions/3.7.0/envs/attention/lib/python3.7/site-packages/numpy/lib/function_base.py:2560: RuntimeWarning: invalid value encountered in true_divide\n",
      "  c /= stddev[None, :]\n"
     ]
    }
   ],
   "source": [
    "corr = np.corrcoef(N)"
   ]
  },
  {
   "cell_type": "code",
   "execution_count": 12,
   "metadata": {},
   "outputs": [
    {
     "data": {
      "text/plain": [
       "54623"
      ]
     },
     "execution_count": 12,
     "metadata": {},
     "output_type": "execute_result"
    }
   ],
   "source": [
    "l = processed_data.index\n",
    "len(l)"
   ]
  },
  {
   "cell_type": "code",
   "execution_count": 11,
   "metadata": {},
   "outputs": [],
   "source": [
    "with open(\"GDS5420_co-exp.csv\",\"w\") as out_data:\n",
    "    for i in range(len(l)):\n",
    "        for j in range(i):\n",
    "            if corr[i][j] >= 0.9:\n",
    "                g1 = l[i]\n",
    "                g2 = l[j]\n",
    "                out_data.write(str(g1) + \",\" + str(g2)+\"\\n\")\n"
   ]
  },
  {
   "cell_type": "code",
   "execution_count": null,
   "metadata": {},
   "outputs": [],
   "source": [
    "0:40 - "
   ]
  }
 ],
 "metadata": {
  "kernelspec": {
   "display_name": "Python 3",
   "language": "python",
   "name": "python3"
  },
  "language_info": {
   "codemirror_mode": {
    "name": "ipython",
    "version": 3
   },
   "file_extension": ".py",
   "mimetype": "text/x-python",
   "name": "python",
   "nbconvert_exporter": "python",
   "pygments_lexer": "ipython3",
   "version": "3.7.0"
  }
 },
 "nbformat": 4,
 "nbformat_minor": 4
}
