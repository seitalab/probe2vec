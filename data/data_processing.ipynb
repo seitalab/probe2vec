{
 "cells": [
  {
   "cell_type": "code",
   "execution_count": 1,
   "metadata": {},
   "outputs": [
    {
     "name": "stdout",
     "output_type": "stream",
     "text": [
      "found!\n"
     ]
    }
   ],
   "source": [
    "with open(\"GDS5420.soft\",\"r\") as f:\n",
    "    with open(\"GDS5420.txt\",\"w\") as output:\n",
    "        flg = 0\n",
    "        for line in f:\n",
    "            if line == \"!dataset_table_end\\n\":\n",
    "                break\n",
    "            \n",
    "            if flg == 1:\n",
    "                output.write(line)\n",
    "            \n",
    "            if line == \"!dataset_table_begin\\n\":\n",
    "                print(\"found!\")\n",
    "                flg = 1\n",
    "\n",
    "                \n",
    "\n",
    "                \n",
    "        "
   ]
  },
  {
   "cell_type": "code",
   "execution_count": 5,
   "metadata": {},
   "outputs": [],
   "source": [
    "import pandas as pd\n",
    "import numpy as np\n",
    "import seaborn as sns\n",
    "import matplotlib.pyplot as plt\n",
    "\n",
    "dataset = pd.read_table(\"GDS5420.txt\")\n",
    "dataset = dataset.replace(np.nan,0)\n",
    "\n",
    "id_ref = dataset[\"ID_REF\"]\n",
    "\n",
    "\n",
    "probe_id = list(range(len(id_ref)))\n",
    "\n",
    "\n",
    "\n",
    "dataset.insert(1,\"PROBE_ID\", probe_id)\n",
    "dataset_delta_control = dataset[dataset[\"IDENTIFIER\"] != \"--Control\"]\n",
    "GDS5420_IDs=dataset_delta_control.iloc[:,0:3]\n",
    "GDS5420_IDs.to_csv(\"GDS5420_IDs.csv\")\n",
    "\n",
    "    \n",
    "    \n"
   ]
  },
  {
   "cell_type": "code",
   "execution_count": 6,
   "metadata": {},
   "outputs": [],
   "source": [
    "processed_data = dataset_delta_control.set_index(\"PROBE_ID\")\n",
    "processed_data = processed_data.drop(['ID_REF','IDENTIFIER'], axis = 1)\n",
    "processed_data.head()\n",
    "processed_data.to_csv(\"GDS5420_processed.csv\")"
   ]
  },
  {
   "cell_type": "code",
   "execution_count": 7,
   "metadata": {},
   "outputs": [],
   "source": [
    "import pandas as pd \n",
    "\n",
    "data = pd.read_csv(\"GDS5420_processed.csv\", index_col=0)\n",
    "N = data.values"
   ]
  },
  {
   "cell_type": "code",
   "execution_count": 8,
   "metadata": {},
   "outputs": [
    {
     "name": "stderr",
     "output_type": "stream",
     "text": [
      "/home/ksuga/.pyenv/versions/3.7.0/envs/attention/lib/python3.7/site-packages/numpy/lib/function_base.py:2559: RuntimeWarning: invalid value encountered in true_divide\n",
      "  c /= stddev[:, None]\n",
      "/home/ksuga/.pyenv/versions/3.7.0/envs/attention/lib/python3.7/site-packages/numpy/lib/function_base.py:2560: RuntimeWarning: invalid value encountered in true_divide\n",
      "  c /= stddev[None, :]\n"
     ]
    }
   ],
   "source": [
    "import numpy as np\n",
    "corr = np.corrcoef(N)"
   ]
  },
  {
   "cell_type": "code",
   "execution_count": 3,
   "metadata": {},
   "outputs": [
    {
     "name": "stdout",
     "output_type": "stream",
     "text": [
      "corr:0.9,Pair_num: 105114.5 \n",
      "\n",
      "corr:0.8,Pair_num: 1770784.5 \n",
      "\n",
      "corr:0.7,Pair_num: 10338554.5 \n",
      "\n",
      "corr:0.6,Pair_num: 35171746.5 \n",
      "\n",
      "corr:0.5,Pair_num: 88153890.5 \n",
      "\n"
     ]
    }
   ],
   "source": [
    "for i in [0.9,0.8,0.7,0.6,0.5]:\n",
    "    pair_num = (np.abs(corr) > i).sum()\n",
    "    print(\"corr:{0},Pair_num: {1} \\n\".format(i,pair_num/2))"
   ]
  },
  {
   "cell_type": "code",
   "execution_count": 9,
   "metadata": {},
   "outputs": [
    {
     "data": {
      "text/plain": [
       "54623"
      ]
     },
     "execution_count": 9,
     "metadata": {},
     "output_type": "execute_result"
    }
   ],
   "source": [
    "l = processed_data.index\n",
    "len(l)"
   ]
  },
  {
   "cell_type": "code",
   "execution_count": null,
   "metadata": {},
   "outputs": [],
   "source": [
    "with open(\"GDS5420_co-exp.csv\",\"w\") as out_data:\n",
    "    for i in range(len(l)):\n",
    "        for j in range(i):\n",
    "            if np.abs(corr[i][j]) >= 0.8:\n",
    "                g1 = l[i]\n",
    "                g2 = l[j]\n",
    "                out_data.write(str(g1) + \",\" + str(g2)+\"\\n\")\n"
   ]
  },
  {
   "cell_type": "code",
   "execution_count": null,
   "metadata": {},
   "outputs": [],
   "source": [
    "8;56 - "
   ]
  }
 ],
 "metadata": {
  "kernelspec": {
   "display_name": "Python 3",
   "language": "python",
   "name": "python3"
  },
  "language_info": {
   "codemirror_mode": {
    "name": "ipython",
    "version": 3
   },
   "file_extension": ".py",
   "mimetype": "text/x-python",
   "name": "python",
   "nbconvert_exporter": "python",
   "pygments_lexer": "ipython3",
   "version": "3.7.0"
  }
 },
 "nbformat": 4,
 "nbformat_minor": 4
}
