{
 "cells": [
  {
   "cell_type": "code",
   "execution_count": 1,
   "metadata": {},
   "outputs": [
    {
     "name": "stdout",
     "output_type": "stream",
     "text": [
      "found!\n"
     ]
    }
   ],
   "source": [
    "with open(\"GDS5420.soft\",\"r\") as f:\n",
    "    with open(\"GDS5420.txt\",\"w\") as output:\n",
    "        flg = 0\n",
    "        for line in f:\n",
    "            if line == \"!dataset_table_end\\n\":\n",
    "                break\n",
    "            \n",
    "            if flg == 1:\n",
    "                output.write(line)\n",
    "            \n",
    "            if line == \"!dataset_table_begin\\n\":\n",
    "                print(\"found!\")\n",
    "                flg = 1\n",
    "\n",
    "                \n",
    "\n",
    "                \n",
    "        "
   ]
  },
  {
   "cell_type": "code",
   "execution_count": 2,
   "metadata": {},
   "outputs": [
    {
     "name": "stderr",
     "output_type": "stream",
     "text": [
      "/home/ksuga/.pyenv/versions/3.7.0/envs/attention/lib/python3.7/site-packages/pandas/compat/__init__.py:120: UserWarning: Could not import the lzma module. Your installed Python is incomplete. Attempting to use lzma compression will result in a RuntimeError.\n",
      "  warnings.warn(msg)\n"
     ]
    }
   ],
   "source": [
    "import pandas as pd\n",
    "import numpy as np\n",
    "import seaborn as sns\n",
    "import matplotlib.pyplot as plt\n",
    "\n",
    "dataset = pd.read_table(\"GDS5420.txt\")\n",
    "dataset = dataset.replace(np.nan,0)\n",
    "\n",
    "id_ref = dataset[\"ID_REF\"]\n",
    "\n",
    "id_ref_num = []\n",
    "num_list = [\"0\",\"1\",\"2\",\"3\",\"4\",\"5\",\"6\",\"7\",\"8\",\"9\"]\n",
    "id_except = 200\n",
    "\n",
    "for tmp in id_ref:\n",
    "    tmp_list = tmp.split(\"_\")\n",
    "    tmp_first = tmp_list[0]\n",
    "    \n",
    "    if tmp_first[0] in num_list:\n",
    "        id_ref_num.append(tmp_first)\n",
    "    \n",
    "    else:\n",
    "        id_ref_num.append(str(id_except))\n",
    "        id_except+=1\n",
    "        \n",
    "\n",
    "\n",
    "dataset.insert(1,\"ID_REF_NUM\", id_ref_num)\n",
    "dataset_delta_control = dataset[dataset[\"IDENTIFIER\"] != \"--Control\"]\n",
    "dataset_delta_control.to_csv(\"GDS5420.csv\")\n",
    "    \n",
    "    \n"
   ]
  },
  {
   "cell_type": "code",
   "execution_count": 14,
   "metadata": {},
   "outputs": [
    {
     "data": {
      "text/html": [
       "<div>\n",
       "<style scoped>\n",
       "    .dataframe tbody tr th:only-of-type {\n",
       "        vertical-align: middle;\n",
       "    }\n",
       "\n",
       "    .dataframe tbody tr th {\n",
       "        vertical-align: top;\n",
       "    }\n",
       "\n",
       "    .dataframe thead th {\n",
       "        text-align: right;\n",
       "    }\n",
       "</style>\n",
       "<table border=\"1\" class=\"dataframe\">\n",
       "  <thead>\n",
       "    <tr style=\"text-align: right;\">\n",
       "      <th></th>\n",
       "      <th>GSM1296094</th>\n",
       "      <th>GSM1296119</th>\n",
       "      <th>GSM1296076</th>\n",
       "      <th>GSM1296092</th>\n",
       "      <th>GSM1296103</th>\n",
       "      <th>GSM1296078</th>\n",
       "      <th>GSM1296107</th>\n",
       "      <th>GSM1296109</th>\n",
       "      <th>GSM1296080</th>\n",
       "      <th>GSM1296090</th>\n",
       "      <th>...</th>\n",
       "      <th>GSM1296118</th>\n",
       "      <th>GSM1296114</th>\n",
       "      <th>GSM1296097</th>\n",
       "      <th>GSM1296106</th>\n",
       "      <th>GSM1296102</th>\n",
       "      <th>GSM1296122</th>\n",
       "      <th>GSM1296089</th>\n",
       "      <th>GSM1296083</th>\n",
       "      <th>GSM1296116</th>\n",
       "      <th>GSM1296085</th>\n",
       "    </tr>\n",
       "    <tr>\n",
       "      <th>ID_REF_NUM</th>\n",
       "      <th></th>\n",
       "      <th></th>\n",
       "      <th></th>\n",
       "      <th></th>\n",
       "      <th></th>\n",
       "      <th></th>\n",
       "      <th></th>\n",
       "      <th></th>\n",
       "      <th></th>\n",
       "      <th></th>\n",
       "      <th></th>\n",
       "      <th></th>\n",
       "      <th></th>\n",
       "      <th></th>\n",
       "      <th></th>\n",
       "      <th></th>\n",
       "      <th></th>\n",
       "      <th></th>\n",
       "      <th></th>\n",
       "      <th></th>\n",
       "      <th></th>\n",
       "    </tr>\n",
       "  </thead>\n",
       "  <tbody>\n",
       "    <tr>\n",
       "      <th>1007</th>\n",
       "      <td>3488.18</td>\n",
       "      <td>2877.57</td>\n",
       "      <td>1902.72</td>\n",
       "      <td>2691.68</td>\n",
       "      <td>3816.98</td>\n",
       "      <td>1644.34</td>\n",
       "      <td>2033.87</td>\n",
       "      <td>2407.92</td>\n",
       "      <td>3950.73</td>\n",
       "      <td>2419.14</td>\n",
       "      <td>...</td>\n",
       "      <td>3704.01</td>\n",
       "      <td>3391.56</td>\n",
       "      <td>3392.73</td>\n",
       "      <td>3766.24</td>\n",
       "      <td>3660.18</td>\n",
       "      <td>3220.99</td>\n",
       "      <td>3111.06</td>\n",
       "      <td>3493.47</td>\n",
       "      <td>2849.55</td>\n",
       "      <td>3666.43</td>\n",
       "    </tr>\n",
       "    <tr>\n",
       "      <th>1053</th>\n",
       "      <td>1333.90</td>\n",
       "      <td>741.73</td>\n",
       "      <td>509.74</td>\n",
       "      <td>632.79</td>\n",
       "      <td>1229.58</td>\n",
       "      <td>591.22</td>\n",
       "      <td>804.53</td>\n",
       "      <td>1012.13</td>\n",
       "      <td>758.18</td>\n",
       "      <td>496.59</td>\n",
       "      <td>...</td>\n",
       "      <td>408.79</td>\n",
       "      <td>456.75</td>\n",
       "      <td>820.23</td>\n",
       "      <td>738.52</td>\n",
       "      <td>667.23</td>\n",
       "      <td>485.36</td>\n",
       "      <td>483.72</td>\n",
       "      <td>627.90</td>\n",
       "      <td>640.32</td>\n",
       "      <td>410.34</td>\n",
       "    </tr>\n",
       "    <tr>\n",
       "      <th>117</th>\n",
       "      <td>413.55</td>\n",
       "      <td>302.41</td>\n",
       "      <td>106.28</td>\n",
       "      <td>141.98</td>\n",
       "      <td>295.15</td>\n",
       "      <td>134.46</td>\n",
       "      <td>212.25</td>\n",
       "      <td>475.46</td>\n",
       "      <td>289.35</td>\n",
       "      <td>195.44</td>\n",
       "      <td>...</td>\n",
       "      <td>202.94</td>\n",
       "      <td>167.89</td>\n",
       "      <td>232.88</td>\n",
       "      <td>303.78</td>\n",
       "      <td>273.87</td>\n",
       "      <td>225.06</td>\n",
       "      <td>189.56</td>\n",
       "      <td>366.58</td>\n",
       "      <td>212.86</td>\n",
       "      <td>77.63</td>\n",
       "    </tr>\n",
       "    <tr>\n",
       "      <th>121</th>\n",
       "      <td>104.60</td>\n",
       "      <td>122.46</td>\n",
       "      <td>209.40</td>\n",
       "      <td>164.42</td>\n",
       "      <td>236.94</td>\n",
       "      <td>106.50</td>\n",
       "      <td>184.22</td>\n",
       "      <td>198.48</td>\n",
       "      <td>152.43</td>\n",
       "      <td>224.77</td>\n",
       "      <td>...</td>\n",
       "      <td>148.45</td>\n",
       "      <td>168.32</td>\n",
       "      <td>186.93</td>\n",
       "      <td>102.01</td>\n",
       "      <td>216.38</td>\n",
       "      <td>126.70</td>\n",
       "      <td>87.16</td>\n",
       "      <td>209.30</td>\n",
       "      <td>216.24</td>\n",
       "      <td>249.39</td>\n",
       "    </tr>\n",
       "    <tr>\n",
       "      <th>1255</th>\n",
       "      <td>0.00</td>\n",
       "      <td>0.00</td>\n",
       "      <td>0.00</td>\n",
       "      <td>31.98</td>\n",
       "      <td>4.18</td>\n",
       "      <td>0.00</td>\n",
       "      <td>0.00</td>\n",
       "      <td>0.00</td>\n",
       "      <td>1.37</td>\n",
       "      <td>22.51</td>\n",
       "      <td>...</td>\n",
       "      <td>0.00</td>\n",
       "      <td>1.70</td>\n",
       "      <td>0.00</td>\n",
       "      <td>5.28</td>\n",
       "      <td>29.66</td>\n",
       "      <td>0.00</td>\n",
       "      <td>14.43</td>\n",
       "      <td>0.00</td>\n",
       "      <td>0.00</td>\n",
       "      <td>0.00</td>\n",
       "    </tr>\n",
       "  </tbody>\n",
       "</table>\n",
       "<p>5 rows × 99 columns</p>\n",
       "</div>"
      ],
      "text/plain": [
       "            GSM1296094  GSM1296119  GSM1296076  GSM1296092  GSM1296103  \\\n",
       "ID_REF_NUM                                                               \n",
       "1007           3488.18     2877.57     1902.72     2691.68     3816.98   \n",
       "1053           1333.90      741.73      509.74      632.79     1229.58   \n",
       "117             413.55      302.41      106.28      141.98      295.15   \n",
       "121             104.60      122.46      209.40      164.42      236.94   \n",
       "1255              0.00        0.00        0.00       31.98        4.18   \n",
       "\n",
       "            GSM1296078  GSM1296107  GSM1296109  GSM1296080  GSM1296090  ...  \\\n",
       "ID_REF_NUM                                                              ...   \n",
       "1007           1644.34     2033.87     2407.92     3950.73     2419.14  ...   \n",
       "1053            591.22      804.53     1012.13      758.18      496.59  ...   \n",
       "117             134.46      212.25      475.46      289.35      195.44  ...   \n",
       "121             106.50      184.22      198.48      152.43      224.77  ...   \n",
       "1255              0.00        0.00        0.00        1.37       22.51  ...   \n",
       "\n",
       "            GSM1296118  GSM1296114  GSM1296097  GSM1296106  GSM1296102  \\\n",
       "ID_REF_NUM                                                               \n",
       "1007           3704.01     3391.56     3392.73     3766.24     3660.18   \n",
       "1053            408.79      456.75      820.23      738.52      667.23   \n",
       "117             202.94      167.89      232.88      303.78      273.87   \n",
       "121             148.45      168.32      186.93      102.01      216.38   \n",
       "1255              0.00        1.70        0.00        5.28       29.66   \n",
       "\n",
       "            GSM1296122  GSM1296089  GSM1296083  GSM1296116  GSM1296085  \n",
       "ID_REF_NUM                                                              \n",
       "1007           3220.99     3111.06     3493.47     2849.55     3666.43  \n",
       "1053            485.36      483.72      627.90      640.32      410.34  \n",
       "117             225.06      189.56      366.58      212.86       77.63  \n",
       "121             126.70       87.16      209.30      216.24      249.39  \n",
       "1255              0.00       14.43        0.00        0.00        0.00  \n",
       "\n",
       "[5 rows x 99 columns]"
      ]
     },
     "execution_count": 14,
     "metadata": {},
     "output_type": "execute_result"
    }
   ],
   "source": [
    "raw_data = pd.read_csv(\"GDS5420.csv\")\n",
    "processed_data = raw_data.set_index(\"ID_REF_NUM\")\n",
    "processed_data = processed_data.drop(['Unnamed: 0','ID_REF','IDENTIFIER'], axis = 1)\n",
    "processed_data.head()\n"
   ]
  },
  {
   "cell_type": "code",
   "execution_count": 4,
   "metadata": {},
   "outputs": [],
   "source": [
    "N = processed_data.values"
   ]
  },
  {
   "cell_type": "code",
   "execution_count": 5,
   "metadata": {},
   "outputs": [
    {
     "data": {
      "text/plain": [
       "array([[3488.18, 2877.57, 1902.72, ..., 3493.47, 2849.55, 3666.43],\n",
       "       [1333.9 ,  741.73,  509.74, ...,  627.9 ,  640.32,  410.34],\n",
       "       [ 413.55,  302.41,  106.28, ...,  366.58,  212.86,   77.63],\n",
       "       ...,\n",
       "       [4113.8 , 2852.17, 1820.96, ..., 1676.53, 1192.61,  732.69],\n",
       "       [ 433.53,  437.61,  263.29, ...,   62.24,   91.47,   13.65],\n",
       "       [ 239.57, 1095.65, 1051.33, ...,  120.81,  304.76,  123.12]])"
      ]
     },
     "execution_count": 5,
     "metadata": {},
     "output_type": "execute_result"
    }
   ],
   "source": [
    "N"
   ]
  },
  {
   "cell_type": "code",
   "execution_count": 6,
   "metadata": {},
   "outputs": [
    {
     "data": {
      "text/plain": [
       "(54623, 99)"
      ]
     },
     "execution_count": 6,
     "metadata": {},
     "output_type": "execute_result"
    }
   ],
   "source": [
    "N.shape"
   ]
  },
  {
   "cell_type": "code",
   "execution_count": 7,
   "metadata": {},
   "outputs": [
    {
     "name": "stderr",
     "output_type": "stream",
     "text": [
      "/home/ksuga/.pyenv/versions/3.7.0/envs/attention/lib/python3.7/site-packages/numpy/lib/function_base.py:2559: RuntimeWarning: invalid value encountered in true_divide\n",
      "  c /= stddev[:, None]\n",
      "/home/ksuga/.pyenv/versions/3.7.0/envs/attention/lib/python3.7/site-packages/numpy/lib/function_base.py:2560: RuntimeWarning: invalid value encountered in true_divide\n",
      "  c /= stddev[None, :]\n"
     ]
    }
   ],
   "source": [
    "corr = np.corrcoef(N)"
   ]
  },
  {
   "cell_type": "code",
   "execution_count": 17,
   "metadata": {},
   "outputs": [
    {
     "data": {
      "text/plain": [
       "Int64Index([1007, 1053, 117, 121, 1255, 1294, 1316, 1320, 1405, 1431], dtype='int64', name='ID_REF_NUM')"
      ]
     },
     "execution_count": 17,
     "metadata": {},
     "output_type": "execute_result"
    }
   ],
   "source": [
    "l = processed_data.index"
   ]
  },
  {
   "cell_type": "code",
   "execution_count": 28,
   "metadata": {},
   "outputs": [],
   "source": [
    "with open(\"GDS5420_co-exp.txt\",\"w\") as out_data:\n",
    "    for i in range(len(l)):\n",
    "        for j in range(i):\n",
    "            if corr[i][j] >= 0.9:\n",
    "                g1 = l[i]\n",
    "                g2 = l[j]\n",
    "                out_data.write(str(g1) + \" \" + str(g2)+\"\\n\")\n"
   ]
  },
  {
   "cell_type": "code",
   "execution_count": null,
   "metadata": {},
   "outputs": [],
   "source": [
    "14:52-"
   ]
  }
 ],
 "metadata": {
  "kernelspec": {
   "display_name": "Python 3",
   "language": "python",
   "name": "python3"
  },
  "language_info": {
   "codemirror_mode": {
    "name": "ipython",
    "version": 3
   },
   "file_extension": ".py",
   "mimetype": "text/x-python",
   "name": "python",
   "nbconvert_exporter": "python",
   "pygments_lexer": "ipython3",
   "version": "3.7.0"
  }
 },
 "nbformat": 4,
 "nbformat_minor": 4
}
